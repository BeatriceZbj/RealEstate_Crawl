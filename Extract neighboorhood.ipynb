{
 "cells": [
  {
   "cell_type": "code",
   "execution_count": 9,
   "metadata": {},
   "outputs": [
    {
     "ename": "UnboundLocalError",
     "evalue": "local variable 'state' referenced before assignment",
     "output_type": "error",
     "traceback": [
      "\u001b[1;31m---------------------------------------------------------------------------\u001b[0m",
      "\u001b[1;31mUnboundLocalError\u001b[0m                         Traceback (most recent call last)",
      "\u001b[1;32m<ipython-input-9-ee17fe5a6ad5>\u001b[0m in \u001b[0;36m<module>\u001b[1;34m\u001b[0m\n\u001b[0;32m     47\u001b[0m \u001b[1;33m\u001b[0m\u001b[0m\n\u001b[0;32m     48\u001b[0m \u001b[1;32mfor\u001b[0m \u001b[0mfile\u001b[0m \u001b[1;32min\u001b[0m \u001b[0mlist_files\u001b[0m\u001b[1;33m:\u001b[0m\u001b[1;33m\u001b[0m\u001b[1;33m\u001b[0m\u001b[0m\n\u001b[1;32m---> 49\u001b[1;33m     \u001b[0mdata\u001b[0m \u001b[1;33m=\u001b[0m \u001b[0mextract_information\u001b[0m\u001b[1;33m(\u001b[0m\u001b[1;34m\"C:\\\\Users\\\\39118\\\\Desktop\\\\TRY\\\\\"\u001b[0m \u001b[1;33m+\u001b[0m \u001b[0mfile\u001b[0m\u001b[1;33m)\u001b[0m\u001b[1;33m\u001b[0m\u001b[1;33m\u001b[0m\u001b[0m\n\u001b[0m\u001b[0;32m     50\u001b[0m \u001b[1;33m\u001b[0m\u001b[0m\n\u001b[0;32m     51\u001b[0m     \u001b[1;32mfor\u001b[0m \u001b[0mkey\u001b[0m \u001b[1;32min\u001b[0m \u001b[0mdata\u001b[0m\u001b[1;33m:\u001b[0m\u001b[1;33m\u001b[0m\u001b[1;33m\u001b[0m\u001b[0m\n",
      "\u001b[1;32m<ipython-input-9-ee17fe5a6ad5>\u001b[0m in \u001b[0;36mextract_information\u001b[1;34m(file)\u001b[0m\n\u001b[0;32m     20\u001b[0m                 \u001b[0mLS\u001b[0m \u001b[1;33m=\u001b[0m \u001b[1;36m1\u001b[0m\u001b[1;33m\u001b[0m\u001b[1;33m\u001b[0m\u001b[0m\n\u001b[0;32m     21\u001b[0m                 \u001b[1;32mcontinue\u001b[0m\u001b[1;33m\u001b[0m\u001b[1;33m\u001b[0m\u001b[0m\n\u001b[1;32m---> 22\u001b[1;33m             \u001b[1;32mif\u001b[0m \u001b[0mstate\u001b[0m \u001b[1;33m==\u001b[0m \u001b[1;34m\"LS_Parse_Next_Line\"\u001b[0m\u001b[1;33m:\u001b[0m\u001b[1;33m\u001b[0m\u001b[1;33m\u001b[0m\u001b[0m\n\u001b[0m\u001b[0;32m     23\u001b[0m                 \u001b[0mentries\u001b[0m \u001b[1;33m=\u001b[0m \u001b[0meval\u001b[0m\u001b[1;33m(\u001b[0m\u001b[0mline\u001b[0m\u001b[1;33m)\u001b[0m  \u001b[1;31m# Read the line as JSON array.\u001b[0m\u001b[1;33m\u001b[0m\u001b[1;33m\u001b[0m\u001b[0m\n\u001b[0;32m     24\u001b[0m \u001b[1;31m#                 print(entries)\u001b[0m\u001b[1;33m\u001b[0m\u001b[1;33m\u001b[0m\u001b[1;33m\u001b[0m\u001b[0m\n",
      "\u001b[1;31mUnboundLocalError\u001b[0m: local variable 'state' referenced before assignment"
     ]
    }
   ],
   "source": [
    "from os import listdir\n",
    "from os.path import isfile, join\n",
    "import pandas as pd\n",
    "from pandas import ExcelWriter\n",
    "import ast\n",
    "\n",
    "def extract_information(file):\n",
    "    with open(file, mode=\"r\") as ins:\n",
    "        data = {}\n",
    "        mls_number = \"\"\n",
    "        i = 0\n",
    "        LS = 0\n",
    "        for line in ins:\n",
    "            i = i + 1\n",
    "            # Listing summary\n",
    "            if line == \"Listing Summary:\\n\":\n",
    "                state = \"LS_Parse_Next_Line\"\n",
    "                continue\n",
    "            if line ==\"SchoolsEducation :\\n\": \n",
    "                LS = 1\n",
    "                continue\n",
    "            if state == \"LS_Parse_Next_Line\":\n",
    "                entries = eval(line)  # Read the line as JSON array.\n",
    "#                 print(entries)\n",
    "                for entry in entries:\n",
    "                    if entry[0] == \"MLS#\":\n",
    "                        mls_number = entry[1]\n",
    "#                         print(mls_number)\n",
    "                state = None\n",
    "            if LS == 1:\n",
    "                entries = eval(line)  # Read the line as JSON array.\n",
    "                for entry in entries:\n",
    "                    print(entry)\n",
    "                    data[entry[0]] = entry[1]  # Each array entry as key, value\n",
    "                LS = 0\n",
    "        return data\n",
    "\n",
    "      \n",
    "\n",
    "\n",
    "mypath = \"C:\\\\Users\\\\39118\\\\Desktop\\\\TRY\"  # Change this to your own directory\n",
    "list_files = [f for f in listdir(mypath) if isfile(join(mypath, f))]  # Store all file names in a vector\n",
    "\n",
    "\n",
    "table = {}\n",
    "count = 0\n",
    "\n",
    "for file in list_files:\n",
    "    data = extract_information(\"C:\\\\Users\\\\39118\\\\Desktop\\\\TRY\\\\\" + file)\n",
    "\n",
    "    for key in data:\n",
    "        if not (key in table):\n",
    "            table[key] = [\"\" for f in range(count)]\n",
    "\n",
    "        table[key].append(data[key])\n",
    "\n",
    "    count += 1\n",
    "\n",
    "    for key in table:\n",
    "        if len(table[key]) != count:\n",
    "            table[key].append(\"\")\n",
    "\n",
    "df = pd.DataFrame.from_dict(table)\n",
    "\n",
    "# df = pd.DataFrame({'a': headers,\n",
    "#                    'b': values})\n",
    "# df = df.transpose() #switches columns into rows\n",
    "# print(df)\n",
    "with pd.ExcelWriter('C:\\\\Users\\\\39118\\Desktop\\\\PYTHON CODE\\\\NeighboorData.xlsx') as writer:\n",
    "    df.to_excel(writer, 'neighboorhoof',startrow=0, startcol=0, header=True, index=False)\n",
    "   \n"
   ]
  },
  {
   "cell_type": "code",
   "execution_count": 10,
   "metadata": {},
   "outputs": [
    {
     "name": "stdout",
     "output_type": "stream",
     "text": [
      "['0.txt', '1.txt', '2.txt', '3.txt', '4.txt', '5.txt', '6.txt']\n"
     ]
    }
   ],
   "source": [
    "from os import listdir\n",
    "from os.path import isfile, join\n",
    "import pandas as pd\n",
    "from pandas import ExcelWriter\n",
    "\n",
    "def extract_information(file):\n",
    "    with open(file, mode=\"r\") as ins:\n",
    "        data=[]\n",
    "        mls_number = \"\"\n",
    "        \n",
    "    \n",
    "            \n",
    "        \n",
    "\n",
    "\n",
    "mypath = \"C:\\\\Users\\\\39118\\\\Desktop\\\\TRY\"  # Change this to your own directory\n",
    "list_files = [f for f in listdir(mypath) if isfile(join(mypath, f))]  # Store all file names in a vector\n",
    "\n",
    "for file in list_files:\n",
    "    data = extract_information(\"C:\\\\Users\\\\39118\\\\Desktop\\\\TRY\\\\\" + file)"
   ]
  },
  {
   "cell_type": "code",
   "execution_count": null,
   "metadata": {},
   "outputs": [],
   "source": []
  }
 ],
 "metadata": {
  "kernelspec": {
   "display_name": "Python 3",
   "language": "python",
   "name": "python3"
  },
  "language_info": {
   "codemirror_mode": {
    "name": "ipython",
    "version": 3
   },
   "file_extension": ".py",
   "mimetype": "text/x-python",
   "name": "python",
   "nbconvert_exporter": "python",
   "pygments_lexer": "ipython3",
   "version": "3.7.3"
  }
 },
 "nbformat": 4,
 "nbformat_minor": 2
}
